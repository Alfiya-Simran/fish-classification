{
  "cells": [
    {
      "cell_type": "code",
      "execution_count": null,
      "metadata": {
        "id": "uls7tJA4Fy-c"
      },
      "outputs": [],
      "source": [
        "!pip install tensorflow matplotlib seaborn scikit-learn\n",
        "\n",
        "import tensorflow as tf\n",
        "from tensorflow.keras import layers, models\n",
        "from tensorflow.keras.preprocessing.image import ImageDataGenerator\n",
        "from tensorflow.keras.applications import VGG16, ResNet50, MobileNetV2, InceptionV3, EfficientNetB0\n",
        "from tensorflow.keras.callbacks import ModelCheckpoint, ReduceLROnPlateau, EarlyStopping\n",
        "\n",
        "import numpy as np\n",
        "import pandas as pd\n",
        "import matplotlib.pyplot as plt\n",
        "import seaborn as sns\n",
        "from sklearn.metrics import classification_report, confusion_matrix\n",
        "import os, zipfile\n",
        "print(\"TensorFlow version:\", tf.__version__)"
      ]
    },
    {
      "cell_type": "code",
      "execution_count": null,
      "metadata": {
        "id": "N0jH-sGAGekC"
      },
      "outputs": [],
      "source": [
        "# ================================================\n",
        "# 2. Upload & Prepare Dataset\n",
        "# ================================================\n",
        "from google.colab import files\n",
        "uploaded = files.upload()  # Upload your fish dataset zip"
      ]
    },
    {
      "cell_type": "code",
      "execution_count": null,
      "metadata": {
        "id": "6rb1PjyXGegd"
      },
      "outputs": [],
      "source": [
        "# Unzip dataset\n",
        "zip_path = '/content/Dataset.zip'\n",
        "with zipfile.ZipFile(zip_path, 'r') as zip_ref:\n",
        "    zip_ref.extractall('data')"
      ]
    },
    {
      "cell_type": "code",
      "execution_count": null,
      "metadata": {
        "id": "Jpba7Mc_GeeG"
      },
      "outputs": [],
      "source": [
        "!ls data"
      ]
    },
    {
      "cell_type": "code",
      "execution_count": null,
      "metadata": {
        "id": "oOCiH8mSGecG"
      },
      "outputs": [],
      "source": [
        "train_dir = '/content/data/images.cv_jzk6llhf18tm3k0kyttxz/data/test'\n",
        "val_dir = '/content/data/images.cv_jzk6llhf18tm3k0kyttxz/data/val'\n",
        "tesr_dir='/content/data/images.cv_jzk6llhf18tm3k0kyttxz/data/train'"
      ]
    },
    {
      "cell_type": "code",
      "execution_count": null,
      "metadata": {
        "id": "6SUvaquOGeal"
      },
      "outputs": [],
      "source": [
        "# Image size (224 for most models, 299 for InceptionV3)\n",
        "IMG_SIZE = (224, 224)\n",
        "BATCH_SIZE = 32"
      ]
    },
    {
      "cell_type": "code",
      "execution_count": null,
      "metadata": {
        "id": "WVQTbrU8GeX7"
      },
      "outputs": [],
      "source": [
        "# Data generators\n",
        "train_datagen = ImageDataGenerator(\n",
        "    rescale=1./255,\n",
        "    rotation_range=20,\n",
        "    width_shift_range=0.1,\n",
        "    height_shift_range=0.1,\n",
        "    shear_range=0.1,\n",
        "    zoom_range=0.1,\n",
        "    horizontal_flip=True,\n",
        "    fill_mode='nearest'\n",
        ")\n",
        "\n",
        "val_datagen = ImageDataGenerator(rescale=1./255)\n",
        "\n",
        "train_gen = train_datagen.flow_from_directory(\n",
        "    train_dir,\n",
        "    target_size=IMG_SIZE,\n",
        "    batch_size=BATCH_SIZE,\n",
        "    class_mode='categorical'\n",
        ")\n",
        "\n",
        "val_gen = val_datagen.flow_from_directory(\n",
        "    val_dir,\n",
        "    target_size=IMG_SIZE,\n",
        "    batch_size=BATCH_SIZE,\n",
        "    class_mode='categorical',\n",
        "    shuffle=False\n",
        ")\n",
        "\n",
        "NUM_CLASSES = train_gen.num_classes\n",
        "test_gen = val_datagen.flow_from_directory(\n",
        "    tesr_dir,\n",
        "    target_size=IMG_SIZE,\n",
        "    batch_size=BATCH_SIZE,\n",
        "    class_mode='categorical',\n",
        "    shuffle=False\n",
        ")\n",
        "NUM_CLASSES = test_gen.num_classes"
      ]
    },
    {
      "cell_type": "code",
      "execution_count": null,
      "metadata": {
        "id": "w7yQf-ZJGeVt"
      },
      "outputs": [],
      "source": [
        "# ================================================\n",
        "# 3. Helper Functions\n",
        "# ================================================\n",
        "def plot_history(history, title):\n",
        "    plt.figure(figsize=(12,4))\n",
        "    plt.subplot(1,2,1)\n",
        "    plt.plot(history.history['accuracy'], label='train acc')\n",
        "    plt.plot(history.history['val_accuracy'], label='val acc')\n",
        "    plt.title(f'{title} - Accuracy')\n",
        "    plt.legend()\n",
        "    plt.subplot(1,2,2)\n",
        "    plt.plot(history.history['loss'], label='train loss')\n",
        "    plt.plot(history.history['val_loss'], label='val loss')\n",
        "    plt.title(f'{title} - Loss')\n",
        "    plt.legend()\n",
        "    plt.show()\n",
        "def evaluate_model(model, val_gen, model_name):\n",
        "    val_gen.reset()\n",
        "    preds = model.predict(val_gen, verbose=0)\n",
        "    y_pred = np.argmax(preds, axis=1)\n",
        "    y_true = val_gen.classes\n",
        "    target_names = list(val_gen.class_indices.keys())\n",
        "\n",
        "    print(f\"=== {model_name} ===\")\n",
        "    print(classification_report(y_true, y_pred, target_names=target_names))\n",
        "\n",
        "    cm = confusion_matrix(y_true, y_pred)\n",
        "    plt.figure(figsize=(8,6))\n",
        "    sns.heatmap(cm, annot=True, fmt='d', cmap='Blues', xticklabels=target_names, yticklabels=target_names)\n",
        "    plt.title(f'{model_name} - Confusion Matrix')\n",
        "    plt.show()\n",
        "\n",
        "    accuracy = np.mean(y_pred == y_true)\n",
        "    return accuracy\n"
      ]
    },
    {
      "cell_type": "code",
      "execution_count": null,
      "metadata": {
        "id": "NKzywnERGeTa",
        "collapsed": true
      },
      "outputs": [],
      "source": [
        "# ================================================\n",
        "# 4. CNN from Scratch\n",
        "# ================================================\n",
        "def build_cnn(input_shape, num_classes):\n",
        "    inputs = layers.Input(shape=input_shape)\n",
        "    x = layers.Conv2D(32, 3, activation='relu')(inputs)\n",
        "    x = layers.MaxPooling2D()(x)\n",
        "    x = layers.Conv2D(64, 3, activation='relu')(x)\n",
        "    x = layers.MaxPooling2D()(x)\n",
        "    x = layers.Conv2D(128, 3, activation='relu')(x)\n",
        "    x = layers.GlobalAveragePooling2D()(x)\n",
        "    x = layers.Dense(128, activation='relu')(x)\n",
        "    outputs = layers.Dense(num_classes, activation='softmax')(x)\n",
        "    return models.Model(inputs, outputs)\n",
        "cnn_model = build_cnn((*IMG_SIZE,3), NUM_CLASSES)\n",
        "cnn_model.compile(optimizer='adam', loss='categorical_crossentropy', metrics=['accuracy'])\n",
        "\n",
        "callbacks = [\n",
        "    ModelCheckpoint('cnn_best.h5', monitor='val_accuracy', save_best_only=True),\n",
        "    ReduceLROnPlateau(monitor='val_loss', factor=0.5, patience=3),\n",
        "    EarlyStopping(monitor='val_loss', patience=8, restore_best_weights=True)\n",
        "]\n",
        "\n",
        "history_cnn = cnn_model.fit(train_gen, validation_data=val_gen, epochs=20, callbacks=callbacks)\n",
        "plot_history(history_cnn, \"CNN from Scratch\")\n",
        "acc_cnn = evaluate_model(cnn_model, val_gen, \"CNN from Scratch\")"
      ]
    },
    {
      "cell_type": "code",
      "source": [
        "# ================================================\n",
        "# 5. Transfer Learning (Fast Version - MobileNetV2)\n",
        "# ================================================\n",
        "\n",
        "from tensorflow.keras.applications import MobileNetV2\n",
        "\n",
        "print(\"\\n=== Training MobileNetV2 (with fine-tuning) ===\")\n",
        "\n",
        "# Make sure image size matches MobileNetV2\n",
        "IMG_SIZE = (224, 224)\n",
        "train_gen = train_datagen.flow_from_directory(train_dir, target_size=IMG_SIZE, batch_size=BATCH_SIZE, class_mode='categorical')\n",
        "val_gen = val_datagen.flow_from_directory(val_dir, target_size=IMG_SIZE, batch_size=BATCH_SIZE, class_mode='categorical', shuffle=False)\n",
        "\n",
        "# Load base model\n",
        "base_model = MobileNetV2(include_top=False, weights='imagenet', input_shape=(*IMG_SIZE,3))\n",
        "base_model.trainable = False  # Freeze base model initially\n",
        "\n",
        "# Build model\n",
        "inputs = layers.Input(shape=(*IMG_SIZE,3))\n",
        "x = base_model(inputs, training=False)\n",
        "x = layers.GlobalAveragePooling2D()(x)\n",
        "x = layers.Dense(256, activation='relu')(x)\n",
        "outputs = layers.Dense(NUM_CLASSES, activation='softmax')(x)\n",
        "model = models.Model(inputs, outputs)\n",
        "\n",
        "model.compile(optimizer='adam', loss='categorical_crossentropy', metrics=['accuracy'])\n",
        "\n",
        "callbacks = [\n",
        "    ModelCheckpoint('MobileNetV2_best.h5', monitor='val_accuracy', save_best_only=True),\n",
        "    ReduceLROnPlateau(monitor='val_loss', factor=0.5, patience=2),\n",
        "    EarlyStopping(monitor='val_loss', patience=4, restore_best_weights=True)\n",
        "]\n",
        "\n",
        "# Stage 1: Train frozen base\n",
        "history = model.fit(train_gen, validation_data=val_gen, epochs=3, callbacks=callbacks)\n",
        "plot_history(history, \"MobileNetV2 - Frozen Base\")\n",
        "\n",
        "# Stage 2: Fine-tune last few layers\n",
        "base_model.trainable = True\n",
        "for layer in base_model.layers[:-30]:  # Keep most layers frozen\n",
        "    layer.trainable = False\n",
        "\n",
        "model.compile(optimizer=tf.keras.optimizers.Adam(1e-5), loss='categorical_crossentropy', metrics=['accuracy'])\n",
        "history_ft = model.fit(train_gen, validation_data=val_gen, epochs=5, callbacks=callbacks)\n",
        "plot_history(history_ft, \"MobileNetV2 - Fine-tuned\")\n",
        "\n",
        "acc_mobilenet = evaluate_model(model, val_gen, \"MobileNetV2 Fine-tuned\")\n"
      ],
      "metadata": {
        "collapsed": true,
        "id": "4B1gNgzypQm2"
      },
      "execution_count": null,
      "outputs": []
    },
    {
      "cell_type": "code",
      "source": [
        "# ================================================\n",
        "# 6. Model Comparison (Updated for Deployment)\n",
        "# ================================================\n",
        "from tensorflow.keras.models import load_model\n",
        "cnn_model = load_model('/content/cnn_best.h5')\n",
        "acc_cnn = evaluate_model(cnn_model, val_gen, \"CNN from Scratch\")\n",
        "results = []\n",
        "results.append((\"CNN from Scratch\", acc_cnn))\n",
        "df_results = pd.DataFrame(results, columns=['Model', 'Validation Accuracy'])\n",
        "df_results = df_results.sort_values(by='Validation Accuracy', ascending=False)\n",
        "print(df_results)\n",
        "\n",
        "plt.figure(figsize=(8,5))\n",
        "sns.barplot(x='Validation Accuracy', y='Model', data=df_results)\n",
        "plt.title('Model Accuracy Comparison')\n",
        "plt.show()\n",
        "\n",
        "# Save the best model name for reference\n",
        "best_model_name = df_results.iloc[0]['Model']\n",
        "print(f\"Best model: {best_model_name}\")\n",
        "\n",
        "# If you saved each model as '{ModelName}_best.h5', you can find the file\n",
        "best_model_path = f\"{best_model_name}_best.h5\"\n",
        "print(f\"Best model file path: {best_model_path}\")\n"
      ],
      "metadata": {
        "id": "TjC8Y1pfx4yw"
      },
      "execution_count": null,
      "outputs": []
    },
    {
      "cell_type": "code",
      "execution_count": null,
      "metadata": {
        "id": "DO6_LUGzG9I3"
      },
      "outputs": [],
      "source": [
        "# ================================================\n",
        "# 7. Test on Uploaded Image (Updated)\n",
        "# ================================================\n",
        "\n",
        "# Load your best trained model directly\n",
        "model_path = \"cnn_best.h5\"  # or your best pre-trained model file\n",
        "final_model = tf.keras.models.load_model(model_path)\n",
        "\n",
        "# Upload an image for testing\n",
        "from google.colab import files\n",
        "uploaded_img = files.upload()\n",
        "\n",
        "# Get image path and preprocess\n",
        "img_path = list(uploaded_img.keys())[0]\n",
        "img = tf.keras.utils.load_img(img_path, target_size=IMG_SIZE)\n",
        "img_array = tf.keras.utils.img_to_array(img) / 255.0\n",
        "img_array = np.expand_dims(img_array, axis=0)\n",
        "\n",
        "# Predict\n",
        "pred = final_model.predict(img_array)\n",
        "pred_class = np.argmax(pred)\n",
        "\n",
        "# Use the same class labels from your training generator\n",
        "labels = list(train_gen.class_indices.keys())\n",
        "\n",
        "print(f\"Prediction: {labels[pred_class]} | Confidence: {np.max(pred):.2f}\")\n"
      ]
    },
    {
      "cell_type": "code",
      "execution_count": null,
      "metadata": {
        "id": "CzzJGbhQG9Bh"
      },
      "outputs": [],
      "source": []
    },
    {
      "cell_type": "code",
      "execution_count": null,
      "metadata": {
        "id": "jbmHBqk_G8_O"
      },
      "outputs": [],
      "source": []
    }
  ],
  "metadata": {
    "colab": {
      "provenance": []
    },
    "kernelspec": {
      "display_name": "Python 3",
      "name": "python3"
    },
    "language_info": {
      "name": "python"
    }
  },
  "nbformat": 4,
  "nbformat_minor": 0
}